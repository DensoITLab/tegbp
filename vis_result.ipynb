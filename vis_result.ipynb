{
 "cells": [
  {
   "cell_type": "code",
   "execution_count": null,
   "metadata": {},
   "outputs": [],
   "source": [
    "\n",
    "import numpy as np\n",
    "import flow_vis\n",
    "import command \n",
    "from IPython.display import Image, display\n",
    "\n",
    "# dataset = \"dummy\"\n",
    "dataset = \"bricks\"\n",
    "# dataset = \"bricks_1slide\"\n",
    "# dataset = \"indoor_flying2\"\n",
    "\n",
    "bin_path = 'result/{}/bin/flo_{:1d}_{:05d}.bin'\n",
    "png_path = 'result/{}/png/flo_{:1d}_{:05d}.png'\n",
    "\n",
    "if dataset==\"indoor_flying2\":\n",
    "    B, W, H, C = 2921002, 368,288, 2\n",
    "    n_itr_show = 1\n",
    "    WINSIZE = 1000\n",
    "    n_itr = B//WINSIZE\n",
    "    n_itr = 100\n",
    "    b_show=False\n",
    "    run_cpp= False\n",
    "else:\n",
    "    B, W, H, C = 15000, 272,208, 2\n",
    "    n_itr_show = 1\n",
    "    WINSIZE = 1000\n",
    "    n_itr   = B//WINSIZE\n",
    "    b_show=True\n",
    "    run_cpp= False\n",
    "    # n_itr = 10\n",
    "\n",
    "# n_itr = 10\n",
    "\n",
    "if run_cpp:\n",
    "    res = command.run(['./process', '1', dataset]) \n",
    "    print(res.output)\n",
    "    print(res.exit)\n",
    "\n",
    "for index in [0]:\n",
    "    for itr in range(n_itr):\n",
    "        if itr%n_itr_show==0:\n",
    "            print(itr)\n",
    "            bin_path_ = bin_path.format(dataset, index, itr)\n",
    "            png_path_ = png_path.format(dataset, index, itr)\n",
    "            flo = np.fromfile(bin_path_, dtype=np.float64).reshape([H,W,C])\n",
    "            flow_vis.save_flo(flo, png_path_)\n",
    "            if b_show:\n",
    "                display(Image(filename=png_path_)) \n",
    "\n",
    "print(flo.shape)\n",
    "\n"
   ]
  },
  {
   "cell_type": "code",
   "execution_count": null,
   "metadata": {},
   "outputs": [],
   "source": []
  }
 ],
 "metadata": {
  "kernelspec": {
   "display_name": "bitprune",
   "language": "python",
   "name": "python3"
  },
  "language_info": {
   "codemirror_mode": {
    "name": "ipython",
    "version": 3
   },
   "file_extension": ".py",
   "mimetype": "text/x-python",
   "name": "python",
   "nbconvert_exporter": "python",
   "pygments_lexer": "ipython3",
   "version": "3.9.13"
  },
  "orig_nbformat": 4,
  "vscode": {
   "interpreter": {
    "hash": "fa8be68a8b7298b717a779de91d0437c8c17312fb770321ab98c25f6837e8a76"
   }
  }
 },
 "nbformat": 4,
 "nbformat_minor": 2
}
