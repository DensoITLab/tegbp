{
 "cells": [
  {
   "cell_type": "code",
   "execution_count": 40,
   "metadata": {},
   "outputs": [
    {
     "ename": "CommandException",
     "evalue": "'command (\\'rm result/flo.png\\') exited with value: 1\\n\\nb\"rm: cannot remove \\'result/flo.png\\': No such file or directory\"'",
     "output_type": "error",
     "traceback": [
      "\u001b[0;31m---------------------------------------------------------------------------\u001b[0m",
      "\u001b[0;31mCommandException\u001b[0m                          Traceback (most recent call last)",
      "\u001b[1;32m/home/ysekikawa/mnt/Project/TEGBP/TEGBP_cpp/vis_result.ipynb Cell 1\u001b[0m in \u001b[0;36m<cell line: 11>\u001b[0;34m()\u001b[0m\n\u001b[1;32m      <a href='vscode-notebook-cell://ssh-remote%2B10.81.247.103/home/ysekikawa/mnt/Project/TEGBP/TEGBP_cpp/vis_result.ipynb#W0sdnNjb2RlLXJlbW90ZQ%3D%3D?line=8'>9</a>\u001b[0m run_cpp\u001b[39m=\u001b[39m \u001b[39mTrue\u001b[39;00m\n\u001b[1;32m     <a href='vscode-notebook-cell://ssh-remote%2B10.81.247.103/home/ysekikawa/mnt/Project/TEGBP/TEGBP_cpp/vis_result.ipynb#W0sdnNjb2RlLXJlbW90ZQ%3D%3D?line=10'>11</a>\u001b[0m \u001b[39mif\u001b[39;00m run_cpp:\n\u001b[0;32m---> <a href='vscode-notebook-cell://ssh-remote%2B10.81.247.103/home/ysekikawa/mnt/Project/TEGBP/TEGBP_cpp/vis_result.ipynb#W0sdnNjb2RlLXJlbW90ZQ%3D%3D?line=11'>12</a>\u001b[0m     res \u001b[39m=\u001b[39m command\u001b[39m.\u001b[39;49mrun([\u001b[39m'\u001b[39;49m\u001b[39mrm\u001b[39;49m\u001b[39m'\u001b[39;49m, png_path]) \n\u001b[1;32m     <a href='vscode-notebook-cell://ssh-remote%2B10.81.247.103/home/ysekikawa/mnt/Project/TEGBP/TEGBP_cpp/vis_result.ipynb#W0sdnNjb2RlLXJlbW90ZQ%3D%3D?line=12'>13</a>\u001b[0m     res \u001b[39m=\u001b[39m command\u001b[39m.\u001b[39mrun([\u001b[39m'\u001b[39m\u001b[39mrm\u001b[39m\u001b[39m'\u001b[39m, bin_path]) \n\u001b[1;32m     <a href='vscode-notebook-cell://ssh-remote%2B10.81.247.103/home/ysekikawa/mnt/Project/TEGBP/TEGBP_cpp/vis_result.ipynb#W0sdnNjb2RlLXJlbW90ZQ%3D%3D?line=13'>14</a>\u001b[0m     res \u001b[39m=\u001b[39m command\u001b[39m.\u001b[39mrun([\u001b[39m'\u001b[39m\u001b[39m./process\u001b[39m\u001b[39m'\u001b[39m, \u001b[39m'\u001b[39m\u001b[39m64\u001b[39m\u001b[39m'\u001b[39m]) \n",
      "File \u001b[0;32m~/miniconda3/envs/bitprune/lib/python3.9/site-packages/command/core.py:280\u001b[0m, in \u001b[0;36mrun\u001b[0;34m(command, timeout, cwd, env, debug)\u001b[0m\n\u001b[1;32m    246\u001b[0m \u001b[39mdef\u001b[39;00m \u001b[39mrun\u001b[39m(command, timeout\u001b[39m=\u001b[39m\u001b[39mNone\u001b[39;00m, cwd\u001b[39m=\u001b[39m\u001b[39mNone\u001b[39;00m, env\u001b[39m=\u001b[39m\u001b[39mNone\u001b[39;00m, debug\u001b[39m=\u001b[39m\u001b[39mNone\u001b[39;00m):\n\u001b[1;32m    247\u001b[0m     \u001b[39m\"\"\"\u001b[39;00m\n\u001b[1;32m    248\u001b[0m \u001b[39m    Runs a given command on the system within a set time period, providing an easy way to access\u001b[39;00m\n\u001b[1;32m    249\u001b[0m \u001b[39m    command output as it happens without waiting for the command to finish running.\u001b[39;00m\n\u001b[0;32m   (...)\u001b[0m\n\u001b[1;32m    278\u001b[0m \u001b[39m    :return returns :class:`Command.Response` that contains the exit code and the output from the command\u001b[39;00m\n\u001b[1;32m    279\u001b[0m \u001b[39m    \"\"\"\u001b[39;00m\n\u001b[0;32m--> 280\u001b[0m     \u001b[39mreturn\u001b[39;00m Command\u001b[39m.\u001b[39;49mrun(command, timeout\u001b[39m=\u001b[39;49mtimeout, cwd\u001b[39m=\u001b[39;49mcwd, env\u001b[39m=\u001b[39;49menv, debug\u001b[39m=\u001b[39;49mdebug)\n",
      "File \u001b[0;32m~/miniconda3/envs/bitprune/lib/python3.9/site-packages/command/core.py:158\u001b[0m, in \u001b[0;36mCommand.run\u001b[0;34m(cls, command, timeout, cwd, env, debug)\u001b[0m\n\u001b[1;32m    153\u001b[0m         \u001b[39mraise\u001b[39;00m CommandException(\u001b[39m\"\u001b[39m\u001b[39mcommand (\u001b[39m\u001b[39m'\u001b[39m\u001b[39m%s\u001b[39;00m\u001b[39m'\u001b[39m\u001b[39m) was terminated by signal: \u001b[39m\u001b[39m%s\u001b[39;00m\u001b[39m\"\u001b[39m\n\u001b[1;32m    154\u001b[0m                                \u001b[39m%\u001b[39m (\u001b[39m'\u001b[39m\u001b[39m \u001b[39m\u001b[39m'\u001b[39m\u001b[39m.\u001b[39mjoin(command), \u001b[39m-\u001b[39mresponse\u001b[39m.\u001b[39mexit),\n\u001b[1;32m    155\u001b[0m                                response\u001b[39m.\u001b[39mexit,\n\u001b[1;32m    156\u001b[0m                                response\u001b[39m.\u001b[39moutput)\n\u001b[1;32m    157\u001b[0m     \u001b[39mif\u001b[39;00m response\u001b[39m.\u001b[39mexit \u001b[39m>\u001b[39m \u001b[39m0\u001b[39m:\n\u001b[0;32m--> 158\u001b[0m         \u001b[39mraise\u001b[39;00m CommandException(\u001b[39m\"\u001b[39m\u001b[39mcommand (\u001b[39m\u001b[39m'\u001b[39m\u001b[39m%s\u001b[39;00m\u001b[39m'\u001b[39m\u001b[39m) exited with value: \u001b[39m\u001b[39m%s\u001b[39;00m\u001b[39m\\n\u001b[39;00m\u001b[39m\\n\u001b[39;00m\u001b[39m%s\u001b[39;00m\u001b[39m\"\u001b[39m\n\u001b[1;32m    159\u001b[0m                                \u001b[39m%\u001b[39m (\u001b[39m'\u001b[39m\u001b[39m \u001b[39m\u001b[39m'\u001b[39m\u001b[39m.\u001b[39mjoin(command), \u001b[39mstr\u001b[39m(response\u001b[39m.\u001b[39mexit), response\u001b[39m.\u001b[39moutput),\n\u001b[1;32m    160\u001b[0m                                response\u001b[39m.\u001b[39mexit,\n\u001b[1;32m    161\u001b[0m                                response\u001b[39m.\u001b[39moutput)\n\u001b[1;32m    163\u001b[0m     \u001b[39mreturn\u001b[39;00m response\n\u001b[1;32m    164\u001b[0m \u001b[39mexcept\u001b[39;00m \u001b[39mOSError\u001b[39;00m \u001b[39mas\u001b[39;00m error:\n\u001b[1;32m    165\u001b[0m     \u001b[39m# Use fake exit code since we can't get the accurate one from this\u001b[39;00m\n",
      "\u001b[0;31mCommandException\u001b[0m: 'command (\\'rm result/flo.png\\') exited with value: 1\\n\\nb\"rm: cannot remove \\'result/flo.png\\': No such file or directory\"'"
     ]
    }
   ],
   "source": [
    "import numpy as np\n",
    "import flow_vis\n",
    "import command \n",
    "from IPython.display import Image, display\n",
    "\n",
    "bin_path = 'result/flo.bin'\n",
    "png_path = 'result/flo.png'\n",
    "W, H, C = 272,208, 2\n",
    "run_cpp= True\n",
    "\n",
    "if run_cpp:\n",
    "    # res = command.run(['rm', png_path]) \n",
    "    # res = command.run(['rm', bin_path]) \n",
    "    res = command.run(['./process', '64']) \n",
    "    print(res.output) \n",
    "    print(res.exit)\n",
    "\n",
    "a = np.fromfile(bin_path, dtype=np.float64) \n",
    "a = a.reshape([H,W,C])\n",
    "print(a.shape)\n",
    "\n",
    "flow_vis.save_flo(a, png_path)\n",
    "display(Image(filename=png_path)) "
   ]
  },
  {
   "cell_type": "code",
   "execution_count": null,
   "metadata": {},
   "outputs": [],
   "source": []
  }
 ],
 "metadata": {
  "kernelspec": {
   "display_name": "bitprune",
   "language": "python",
   "name": "python3"
  },
  "language_info": {
   "codemirror_mode": {
    "name": "ipython",
    "version": 3
   },
   "file_extension": ".py",
   "mimetype": "text/x-python",
   "name": "python",
   "nbconvert_exporter": "python",
   "pygments_lexer": "ipython3",
   "version": "3.9.13"
  },
  "orig_nbformat": 4,
  "vscode": {
   "interpreter": {
    "hash": "fa8be68a8b7298b717a779de91d0437c8c17312fb770321ab98c25f6837e8a76"
   }
  }
 },
 "nbformat": 4,
 "nbformat_minor": 2
}
