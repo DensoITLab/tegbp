{
 "cells": [
  {
   "cell_type": "code",
   "execution_count": 19,
   "metadata": {},
   "outputs": [
    {
     "name": "stdout",
     "output_type": "stream",
     "text": [
      "b'Dataset: bricks\\nStart main dataset: bricks WINSIZE 1000\\nLoading bricks\\ninitialize memory pool 15000  208  272\\ndone..\\n0K - 1K   0.00 -  0.00\\nSaving data result/bricks/bin/flo_0_00000.bin, 0_0000\\n1K - 2K   0.00 -  0.01\\nSaving data result/bricks/bin/flo_0_00001.bin, 0_0001\\n2K - 3K   0.01 -  0.01\\nSaving data result/bricks/bin/flo_0_00002.bin, 0_0002\\n3K - 4K   0.01 -  0.01\\nSaving data result/bricks/bin/flo_0_00003.bin, 0_0003\\n4K - 5K   0.01 -  0.02\\nSaving data result/bricks/bin/flo_0_00004.bin, 0_0004\\n5K - 6K   0.02 -  0.02\\nSaving data result/bricks/bin/flo_0_00005.bin, 0_0005\\n6K - 7K   0.02 -  0.02\\nSaving data result/bricks/bin/flo_0_00006.bin, 0_0006\\n7K - 8K   0.02 -  0.03\\nSaving data result/bricks/bin/flo_0_00007.bin, 0_0007\\n8K - 9K   0.03 -  0.03\\nSaving data result/bricks/bin/flo_0_00008.bin, 0_0008\\n9K - 10K   0.03 -  0.04\\nSaving data result/bricks/bin/flo_0_00009.bin, 0_0009\\n10K - 11K   0.04 -  0.04\\nSaving data result/bricks/bin/flo_0_00010.bin, 0_0010\\n11K - 12K   0.04 -  0.04\\nSaving data result/bricks/bin/flo_0_00011.bin, 0_0011\\n12K - 13K   0.04 -  0.05\\nSaving data result/bricks/bin/flo_0_00012.bin, 0_0012\\n13K - 14K   0.05 -  0.05\\nSaving data result/bricks/bin/flo_0_00013.bin, 0_0013\\n14K - 15K   0.05 -  0.00\\nSaving data result/bricks/bin/flo_0_00014.bin, 0_0014\\n\\n0.192246 [sec] for 15 [K events]  0.05 [sec] (num_thread: 20) 78.025 KEPS'\n",
      "0\n",
      "0\n"
     ]
    },
    {
     "ename": "FileNotFoundError",
     "evalue": "[Errno 2] No such file or directory: 'result/bricks/bin/img_0_00000.bin'",
     "output_type": "error",
     "traceback": [
      "\u001b[0;31m---------------------------------------------------------------------------\u001b[0m",
      "\u001b[0;31mFileNotFoundError\u001b[0m                         Traceback (most recent call last)",
      "Cell \u001b[0;32mIn[19], line 76\u001b[0m\n\u001b[1;32m     73\u001b[0m         display(Image(filename\u001b[39m=\u001b[39mflo_png_path_)) \n\u001b[1;32m     75\u001b[0m img_bin_path_   \u001b[39m=\u001b[39m img_bin_path\u001b[39m.\u001b[39mformat(dataset, \u001b[39m0\u001b[39m, itr)\n\u001b[0;32m---> 76\u001b[0m img012_org      \u001b[39m=\u001b[39m np\u001b[39m.\u001b[39;49mfromfile(img_bin_path_, dtype\u001b[39m=\u001b[39;49mnp\u001b[39m.\u001b[39;49mint32)\u001b[39m.\u001b[39mreshape([H,W])\n\u001b[1;32m     77\u001b[0m img_bin_path_   \u001b[39m=\u001b[39m img_bin_path\u001b[39m.\u001b[39mformat(dataset, \u001b[39m1\u001b[39m, itr)\n\u001b[1;32m     78\u001b[0m img012_warp     \u001b[39m=\u001b[39m np\u001b[39m.\u001b[39mfromfile(img_bin_path_, dtype\u001b[39m=\u001b[39mnp\u001b[39m.\u001b[39mint32)\u001b[39m.\u001b[39mreshape([H,W])\n",
      "\u001b[0;31mFileNotFoundError\u001b[0m: [Errno 2] No such file or directory: 'result/bricks/bin/img_0_00000.bin'"
     ]
    }
   ],
   "source": [
    "\n",
    "import numpy as np\n",
    "import vis_utils\n",
    "import command \n",
    "from IPython.display import Image, display\n",
    "\n",
    "# dataset = \"dummy\"\n",
    "# dataset = \"debug\"\n",
    "dataset = \"bricks\"\n",
    "# dataset = \"bricks_1slide\"\n",
    "# dataset = \"indoor_flying2\"\n",
    "# dataset = \"qr000\"\n",
    "\n",
    "# cmd = ['source', '/opt/intel/oneapi/setvars.sh', \"--force\"]\n",
    "# res = command.run(cmd) \n",
    "\n",
    "flo_bin_path = 'result/{}/bin/flo_{:1d}_{:05d}.bin'\n",
    "flo_png_path = 'result/{}/png/flo_{:1d}_{:05d}.png'\n",
    "img_bin_path = 'result/{}/bin/img_{:1d}_{:05d}.bin'\n",
    "img_png_path = 'result/{}/png/img_{:1d}_{:05d}.png'\n",
    "\n",
    "if dataset==\"indoor_flying2\":\n",
    "    B, W, H, C = 2921002, 368,288, 2\n",
    "    n_itr_show = 1\n",
    "    WINSIZE = 1000\n",
    "    n_itr = B//WINSIZE\n",
    "    # n_itr = 10|\n",
    "    b_show=False\n",
    "    run_cpp= False\n",
    "    cmd = ['./process', '-1', dataset]\n",
    "elif dataset==\"qr000\":\n",
    "    B, W, H, C = 1418870, 1312,752, 2\n",
    "    n_itr_show = 1\n",
    "    WINSIZE = 1000\n",
    "    n_itr = B//WINSIZE\n",
    "    # n_itr = 10|\n",
    "    b_show=False\n",
    "    run_cpp= False\n",
    "    cmd = ['./process', '-1', dataset]\n",
    "elif dataset==\"debug\":\n",
    "    dataset=\"bricks\"\n",
    "    B, W, H, C = 15000, 272,208, 2\n",
    "    n_itr_show = 10\n",
    "    WINSIZE = 15000\n",
    "    n_itr   = 100\n",
    "    b_show=True\n",
    "    run_cpp= False\n",
    "    cmd = ['./process', '-1', \"bricks\",  '15000']\n",
    "else:\n",
    "    B, W, H, C = 15000, 272,208, 2\n",
    "    n_itr_show = 10\n",
    "    WINSIZE = 100\n",
    "    n_itr   = B//WINSIZE-1\n",
    "    b_show=False\n",
    "    run_cpp= False\n",
    "    cmd = ['./process', '-1', dataset]\n",
    "\n",
    "# n_itr = 10\n",
    "\n",
    "if run_cpp:\n",
    "    res = command.run(cmd) \n",
    "    print(res.output)\n",
    "    print(res.exit)\n",
    "\n",
    "for itr in range(n_itr):\n",
    "    if itr%n_itr_show==0:\n",
    "        for index in [0]:\n",
    "            print(itr)\n",
    "            flo_bin_path_ = flo_bin_path.format(dataset, index, itr)\n",
    "            flo_png_path_ = flo_png_path.format(dataset, index, itr)\n",
    "            flo = np.fromfile(flo_bin_path_, dtype=np.float64).reshape([H,W,C])\n",
    "            vis_utils.save_flo(flo, flo_png_path_)\n",
    "            if b_show:\n",
    "                display(Image(filename=flo_png_path_)) \n",
    "\n",
    "        img_bin_path_   = img_bin_path.format(dataset, 0, itr)\n",
    "        img012_org      = np.fromfile(img_bin_path_, dtype=np.int32).reshape([H,W])\n",
    "        img_bin_path_   = img_bin_path.format(dataset, 1, itr)\n",
    "        img012_warp     = np.fromfile(img_bin_path_, dtype=np.int32).reshape([H,W])\n",
    "        img_png_path_   = img_png_path.format(dataset, 0, itr)\n",
    "        vis_utils.save_edge(np.hstack([img012_org, img012_warp]), img_png_path_)\n",
    "        if b_show:\n",
    "            display(Image(filename=img_png_path_)) \n"
   ]
  },
  {
   "cell_type": "code",
   "execution_count": null,
   "metadata": {},
   "outputs": [],
   "source": []
  }
 ],
 "metadata": {
  "kernelspec": {
   "display_name": "Python 3.8.3 64-bit ('3.8.3')",
   "language": "python",
   "name": "python3"
  },
  "language_info": {
   "codemirror_mode": {
    "name": "ipython",
    "version": 3
   },
   "file_extension": ".py",
   "mimetype": "text/x-python",
   "name": "python",
   "nbconvert_exporter": "python",
   "pygments_lexer": "ipython3",
   "version": "3.8.3"
  },
  "orig_nbformat": 4,
  "vscode": {
   "interpreter": {
    "hash": "ea911da8a5e9562f881abc44bda5826b35e35785fd3a5a09f0e595a1bdc62767"
   }
  }
 },
 "nbformat": 4,
 "nbformat_minor": 2
}
