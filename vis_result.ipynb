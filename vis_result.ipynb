{
 "cells": [
  {
   "cell_type": "code",
   "execution_count": 32,
   "metadata": {},
   "outputs": [
    {
     "name": "stdout",
     "output_type": "stream",
     "text": [
      "b'Loading bricks datax,y,t,p,vx_perp,vy_perp\\ndone..\\nWork took 0.045151 seconds for 10 K events (num_thread: 64)\\nSaving datadone..'\n",
      "0\n",
      "(208, 272, 2)\n"
     ]
    },
    {
     "data": {
      "image/png": "[encoded data removed]",
      "text/plain": [
       "<IPython.core.display.Image object>"
      ]
     },
     "metadata": {},
     "output_type": "display_data"
    }
   ],
   "source": [
    "import numpy as np\n",
    "import flow_vis\n",
    "import command \n",
    "from IPython.display import Image, display\n",
    "\n",
    "bin_path = 'result/flo.bin'\n",
    "png_path = 'result/flo.png'\n",
    "W, H, C = 272,208, 2\n",
    "run_cpp= True\n",
    "\n",
    "if run_cpp:\n",
    "    res = command.run(['rm', png_path]) \n",
    "    res = command.run(['rm', bin_path]) \n",
    "    res = command.run(['./process', '64']) \n",
    "    print(res.output) \n",
    "    print(res.exit)\n",
    "\n",
    "a = np.fromfile(bin_path, dtype=np.float64) \n",
    "a = a.reshape([H,W,C])\n",
    "print(a.shape)\n",
    "\n",
    "flow_vis.save_flo(a, png_path)\n",
    "display(Image(filename=png_path)) "
   ]
  },
  {
   "cell_type": "code",
   "execution_count": null,
   "metadata": {},
   "outputs": [],
   "source": []
  }
 ],
 "metadata": {
  "kernelspec": {
   "display_name": "bitprune",
   "language": "python",
   "name": "python3"
  },
  "language_info": {
   "codemirror_mode": {
    "name": "ipython",
    "version": 3
   },
   "file_extension": ".py",
   "mimetype": "text/x-python",
   "name": "python",
   "nbconvert_exporter": "python",
   "pygments_lexer": "ipython3",
   "version": "3.9.13"
  },
  "orig_nbformat": 4,
  "vscode": {
   "interpreter": {
    "hash": "fa8be68a8b7298b717a779de91d0437c8c17312fb770321ab98c25f6837e8a76"
   }
  }
 },
 "nbformat": 4,
 "nbformat_minor": 2
}
