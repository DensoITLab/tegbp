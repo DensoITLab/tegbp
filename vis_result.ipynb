{
 "cells": [
  {
   "cell_type": "code",
   "execution_count": 4,
   "metadata": {},
   "outputs": [
    {
     "ename": "CommandException",
     "evalue": "'Could not find source'",
     "output_type": "error",
     "traceback": [
      "\u001b[0;31m---------------------------------------------------------------------------\u001b[0m",
      "\u001b[0;31mCommandException\u001b[0m                          Traceback (most recent call last)",
      "\u001b[1;32m/home/ysekikawa/mnt/Project/TEGBP/TEGBP_cpp/vis_result.ipynb Cell 1\u001b[0m in \u001b[0;36m<cell line: 14>\u001b[0;34m()\u001b[0m\n\u001b[1;32m      <a href='vscode-notebook-cell://ssh-remote%2B10.81.247.103/home/ysekikawa/mnt/Project/TEGBP/TEGBP_cpp/vis_result.ipynb#W0sdnNjb2RlLXJlbW90ZQ%3D%3D?line=7'>8</a>\u001b[0m \u001b[39m# dataset = \"bricks\"\u001b[39;00m\n\u001b[1;32m      <a href='vscode-notebook-cell://ssh-remote%2B10.81.247.103/home/ysekikawa/mnt/Project/TEGBP/TEGBP_cpp/vis_result.ipynb#W0sdnNjb2RlLXJlbW90ZQ%3D%3D?line=8'>9</a>\u001b[0m \u001b[39m# dataset = \"bricks_1slide\"\u001b[39;00m\n\u001b[1;32m     <a href='vscode-notebook-cell://ssh-remote%2B10.81.247.103/home/ysekikawa/mnt/Project/TEGBP/TEGBP_cpp/vis_result.ipynb#W0sdnNjb2RlLXJlbW90ZQ%3D%3D?line=9'>10</a>\u001b[0m \u001b[39m# dataset = \"indoor_flying2\"\u001b[39;00m\n\u001b[1;32m     <a href='vscode-notebook-cell://ssh-remote%2B10.81.247.103/home/ysekikawa/mnt/Project/TEGBP/TEGBP_cpp/vis_result.ipynb#W0sdnNjb2RlLXJlbW90ZQ%3D%3D?line=10'>11</a>\u001b[0m \u001b[39m# dataset = \"qr000\"\u001b[39;00m\n\u001b[1;32m     <a href='vscode-notebook-cell://ssh-remote%2B10.81.247.103/home/ysekikawa/mnt/Project/TEGBP/TEGBP_cpp/vis_result.ipynb#W0sdnNjb2RlLXJlbW90ZQ%3D%3D?line=12'>13</a>\u001b[0m cmd \u001b[39m=\u001b[39m [\u001b[39m'\u001b[39m\u001b[39msource\u001b[39m\u001b[39m'\u001b[39m, \u001b[39m'\u001b[39m\u001b[39m/opt/intel/oneapi/setvars.sh\u001b[39m\u001b[39m'\u001b[39m, \u001b[39m\"\u001b[39m\u001b[39m--force\u001b[39m\u001b[39m\"\u001b[39m]\n\u001b[0;32m---> <a href='vscode-notebook-cell://ssh-remote%2B10.81.247.103/home/ysekikawa/mnt/Project/TEGBP/TEGBP_cpp/vis_result.ipynb#W0sdnNjb2RlLXJlbW90ZQ%3D%3D?line=13'>14</a>\u001b[0m res \u001b[39m=\u001b[39m command\u001b[39m.\u001b[39;49mrun(cmd) \n\u001b[1;32m     <a href='vscode-notebook-cell://ssh-remote%2B10.81.247.103/home/ysekikawa/mnt/Project/TEGBP/TEGBP_cpp/vis_result.ipynb#W0sdnNjb2RlLXJlbW90ZQ%3D%3D?line=15'>16</a>\u001b[0m bin_path \u001b[39m=\u001b[39m \u001b[39m'\u001b[39m\u001b[39mresult/\u001b[39m\u001b[39m{}\u001b[39;00m\u001b[39m/bin/flo_\u001b[39m\u001b[39m{:1d}\u001b[39;00m\u001b[39m_\u001b[39m\u001b[39m{:05d}\u001b[39;00m\u001b[39m.bin\u001b[39m\u001b[39m'\u001b[39m\n\u001b[1;32m     <a href='vscode-notebook-cell://ssh-remote%2B10.81.247.103/home/ysekikawa/mnt/Project/TEGBP/TEGBP_cpp/vis_result.ipynb#W0sdnNjb2RlLXJlbW90ZQ%3D%3D?line=16'>17</a>\u001b[0m png_path \u001b[39m=\u001b[39m \u001b[39m'\u001b[39m\u001b[39mresult/\u001b[39m\u001b[39m{}\u001b[39;00m\u001b[39m/png/flo_\u001b[39m\u001b[39m{:1d}\u001b[39;00m\u001b[39m_\u001b[39m\u001b[39m{:05d}\u001b[39;00m\u001b[39m.png\u001b[39m\u001b[39m'\u001b[39m\n",
      "File \u001b[0;32m~/miniconda3/envs/bitprune/lib/python3.9/site-packages/command/core.py:280\u001b[0m, in \u001b[0;36mrun\u001b[0;34m(command, timeout, cwd, env, debug)\u001b[0m\n\u001b[1;32m    246\u001b[0m \u001b[39mdef\u001b[39;00m \u001b[39mrun\u001b[39m(command, timeout\u001b[39m=\u001b[39m\u001b[39mNone\u001b[39;00m, cwd\u001b[39m=\u001b[39m\u001b[39mNone\u001b[39;00m, env\u001b[39m=\u001b[39m\u001b[39mNone\u001b[39;00m, debug\u001b[39m=\u001b[39m\u001b[39mNone\u001b[39;00m):\n\u001b[1;32m    247\u001b[0m     \u001b[39m\"\"\"\u001b[39;00m\n\u001b[1;32m    248\u001b[0m \u001b[39m    Runs a given command on the system within a set time period, providing an easy way to access\u001b[39;00m\n\u001b[1;32m    249\u001b[0m \u001b[39m    command output as it happens without waiting for the command to finish running.\u001b[39;00m\n\u001b[0;32m   (...)\u001b[0m\n\u001b[1;32m    278\u001b[0m \u001b[39m    :return returns :class:`Command.Response` that contains the exit code and the output from the command\u001b[39;00m\n\u001b[1;32m    279\u001b[0m \u001b[39m    \"\"\"\u001b[39;00m\n\u001b[0;32m--> 280\u001b[0m     \u001b[39mreturn\u001b[39;00m Command\u001b[39m.\u001b[39;49mrun(command, timeout\u001b[39m=\u001b[39;49mtimeout, cwd\u001b[39m=\u001b[39;49mcwd, env\u001b[39m=\u001b[39;49menv, debug\u001b[39m=\u001b[39;49mdebug)\n",
      "File \u001b[0;32m~/miniconda3/envs/bitprune/lib/python3.9/site-packages/command/core.py:76\u001b[0m, in \u001b[0;36mCommand.run\u001b[0;34m(cls, command, timeout, cwd, env, debug)\u001b[0m\n\u001b[1;32m     73\u001b[0m environ\u001b[39m.\u001b[39mupdate(env \u001b[39mor\u001b[39;00m {})\n\u001b[1;32m     75\u001b[0m \u001b[39m# Check if the executable is executable and in fact exists\u001b[39;00m\n\u001b[0;32m---> 76\u001b[0m which(command[\u001b[39m0\u001b[39;49m], environ)\n\u001b[1;32m     78\u001b[0m \u001b[39m# Use tempfile to get past a limitation with subprocess.PIPE and 64kb.\u001b[39;00m\n\u001b[1;32m     79\u001b[0m \u001b[39m# Also to have a file to plug into the track generator\u001b[39;00m\n\u001b[1;32m     80\u001b[0m outputtmp \u001b[39m=\u001b[39m tempfile\u001b[39m.\u001b[39mNamedTemporaryFile()\n",
      "File \u001b[0;32m~/miniconda3/envs/bitprune/lib/python3.9/site-packages/command/core.py:243\u001b[0m, in \u001b[0;36mwhich\u001b[0;34m(program, environ)\u001b[0m\n\u001b[1;32m    240\u001b[0m         \u001b[39mif\u001b[39;00m is_exe(exe_file):\n\u001b[1;32m    241\u001b[0m             \u001b[39mreturn\u001b[39;00m exe_file\n\u001b[0;32m--> 243\u001b[0m \u001b[39mraise\u001b[39;00m CommandException(\u001b[39m\"\u001b[39m\u001b[39mCould not find \u001b[39m\u001b[39m%s\u001b[39;00m\u001b[39m\"\u001b[39m \u001b[39m%\u001b[39m program)\n",
      "\u001b[0;31mCommandException\u001b[0m: 'Could not find source'"
     ]
    }
   ],
   "source": [
    "\n",
    "import numpy as np\n",
    "import flow_vis\n",
    "import command \n",
    "from IPython.display import Image, display\n",
    "\n",
    "# dataset = \"dummy\"\n",
    "dataset = \"debug\"\n",
    "# dataset = \"bricks\"\n",
    "# dataset = \"bricks_1slide\"\n",
    "# dataset = \"indoor_flying2\"\n",
    "# dataset = \"qr000\"\n",
    "\n",
    "# cmd = ['source', '/opt/intel/oneapi/setvars.sh', \"--force\"]\n",
    "# res = command.run(cmd) \n",
    "\n",
    "\n",
    "\n",
    "bin_path = 'result/{}/bin/flo_{:1d}_{:05d}.bin'\n",
    "png_path = 'result/{}/png/flo_{:1d}_{:05d}.png'\n",
    "\n",
    "if dataset==\"indoor_flying2\":\n",
    "    B, W, H, C = 2921002, 368,288, 2\n",
    "    n_itr_show = 1\n",
    "    WINSIZE = 1000\n",
    "    n_itr = B//WINSIZE\n",
    "    # n_itr = 10|\n",
    "    b_show=False\n",
    "    run_cpp= False\n",
    "    cmd = ['./process', '-1', dataset]\n",
    "elif dataset==\"qr000\":\n",
    "    B, W, H, C = 1418870, 1312,752, 2\n",
    "    n_itr_show = 1\n",
    "    WINSIZE = 1000\n",
    "    n_itr = B//WINSIZE\n",
    "    # n_itr = 10|\n",
    "    b_show=False\n",
    "    run_cpp= False\n",
    "    cmd = ['./process', '-1', dataset]\n",
    "elif dataset==\"debug\":\n",
    "    dataset=\"bricks\"\n",
    "    B, W, H, C = 15000, 272,208, 2\n",
    "    n_itr_show = 10\n",
    "    WINSIZE = 15000\n",
    "    n_itr   = 100\n",
    "    b_show=True\n",
    "    run_cpp= True\n",
    "    cmd = ['./process', '-1', \"bricks\",  '15000']\n",
    "else:\n",
    "    B, W, H, C = 15000, 272,208, 2\n",
    "    n_itr_show = 1\n",
    "    WINSIZE = 1000\n",
    "    n_itr   = B//WINSIZE\n",
    "    b_show=True\n",
    "    run_cpp= True\n",
    "    cmd = ['./process', '-1', dataset]\n",
    "\n",
    "# n_itr = 10\n",
    "\n",
    "if run_cpp:\n",
    "    res = command.run(cmd) \n",
    "    print(res.output)\n",
    "    print(res.exit)\n",
    "\n",
    "for index in [0]:\n",
    "    for itr in range(n_itr):\n",
    "        if itr%n_itr_show==0:\n",
    "            print(itr)\n",
    "            bin_path_ = bin_path.format(dataset, index, itr)\n",
    "            png_path_ = png_path.format(dataset, index, itr)\n",
    "            flo = np.fromfile(bin_path_, dtype=np.float64).reshape([H,W,C])\n",
    "            flow_vis.save_flo(flo, png_path_)\n",
    "            if b_show:\n",
    "                display(Image(filename=png_path_)) \n",
    "\n",
    "print(flo.shape)\n",
    "\n"
   ]
  },
  {
   "cell_type": "code",
   "execution_count": null,
   "metadata": {},
   "outputs": [],
   "source": []
  }
 ],
 "metadata": {
  "kernelspec": {
   "display_name": "bitprune",
   "language": "python",
   "name": "python3"
  },
  "language_info": {
   "codemirror_mode": {
    "name": "ipython",
    "version": 3
   },
   "file_extension": ".py",
   "mimetype": "text/x-python",
   "name": "python",
   "nbconvert_exporter": "python",
   "pygments_lexer": "ipython3",
   "version": "3.9.13"
  },
  "orig_nbformat": 4,
  "vscode": {
   "interpreter": {
    "hash": "fa8be68a8b7298b717a779de91d0437c8c17312fb770321ab98c25f6837e8a76"
   }
  }
 },
 "nbformat": 4,
 "nbformat_minor": 2
}
